{
 "cells": [
  {
   "cell_type": "markdown",
   "metadata": {},
   "source": [
    "# Monte Carlo Simulation"
   ]
  },
  {
   "cell_type": "markdown",
   "metadata": {},
   "source": [
    "    - Design a simple Game\n",
    "    - Choose a number between 1 ad 100\n",
    "    - If the sum of the chosen number exceeds 12, you win $3\n",
    "    - If the sum falls below the threshold, you lose $1\n",
    "    - The game will be repeated 1000 times to simulate large number of trials"
   ]
  },
  {
   "cell_type": "code",
   "execution_count": 1,
   "metadata": {},
   "outputs": [],
   "source": [
    "import random"
   ]
  },
  {
   "cell_type": "code",
   "execution_count": 51,
   "metadata": {},
   "outputs": [
    {
     "name": "stdout",
     "output_type": "stream",
     "text": [
      "Total winnings: $621\n",
      "Total losses: $793\n",
      "Net result: $-172\n"
     ]
    }
   ],
   "source": [
    "# Initialie variables\n",
    "total_winnings = 0\n",
    "total_losses = 0\n",
    "\n",
    "# SImulate 1000 trials\n",
    "for _ in range(1000):\n",
    "    # Chosse a random number between 1 and 100\n",
    "    chosen_number = random.randint(1,100)\n",
    "    \n",
    "    # Calculate the sum of digits\n",
    "    digit_sum = sum(int(digit) for digit in str(chosen_number))\n",
    "    \n",
    "    # Check if win or loss\n",
    "    if digit_sum > 12:\n",
    "        total_winnings += 3\n",
    "    else:\n",
    "        total_losses += 1\n",
    "    \n",
    "# Calculate net winnings or loss\n",
    "net_result = total_winnings - total_losses\n",
    "\n",
    "# Print the results\n",
    "print(f\"Total winnings: ${total_winnings}\")\n",
    "print(f\"Total losses: ${total_losses}\")\n",
    "print(f\"Net result: ${net_result}\")"
   ]
  },
  {
   "cell_type": "code",
   "execution_count": 52,
   "metadata": {},
   "outputs": [
    {
     "name": "stdout",
     "output_type": "stream",
     "text": [
      "49 58 59 67 68 69 76 77 78 79 85 86 87 88 89 94 95 96 97 98 99 \n",
      "Total count: 21\n"
     ]
    }
   ],
   "source": [
    "# Initialize a counter\n",
    "count = 0\n",
    "# Iterate through a number from 1 to 100\n",
    "for num in range(1, 101):\n",
    "    # Calculate the sum of digits\n",
    "    digit_sum = sum(int(digit) for digit in str(num))\n",
    "    # Check if the sum of digits is > 12\n",
    "    if digit_sum > 12:\n",
    "        print(num, end=\" \")\n",
    "        count += 1\n",
    "print(f\"\\nTotal count: {count}\")"
   ]
  },
  {
   "cell_type": "markdown",
   "metadata": {},
   "source": [
    "# Monte Carlo Simulation on a rolling dice"
   ]
  },
  {
   "cell_type": "markdown",
   "metadata": {},
   "source": [
    "## Part 1"
   ]
  },
  {
   "cell_type": "code",
   "execution_count": 7,
   "metadata": {},
   "outputs": [],
   "source": [
    "import numpy as np\n"
   ]
  },
  {
   "cell_type": "code",
   "execution_count": 22,
   "metadata": {},
   "outputs": [
    {
     "name": "stdout",
     "output_type": "stream",
     "text": [
      "7\n"
     ]
    }
   ],
   "source": [
    "def roll_dice():\n",
    "    # Simulation of rolling dice twice, minimum number we get is 1, max is 6\n",
    "    # Add the result of the two simulations, so, possible values will be:\n",
    "    # (1,1) or (1,2) ... (6,6) ... Sum will be between 2 and 12\n",
    "    # Run Multiple times to verify\n",
    "    return np.sum(np.random.randint(1,7,2))\n",
    "print (roll_dice())"
   ]
  },
  {
   "cell_type": "markdown",
   "metadata": {},
   "source": [
    "## Part 2\n",
    "    - Someone approaches us saying I will give you $5 if you get 7 and take $1 if you get number other than 7\n",
    "    - How do we know what will happen?\n",
    "    "
   ]
  },
  {
   "cell_type": "code",
   "execution_count": 44,
   "metadata": {},
   "outputs": [
    {
     "name": "stdout",
     "output_type": "stream",
     "text": [
      "[172. 828.]\n",
      "[166. 834.]\n",
      "[179. 821.]\n"
     ]
    }
   ],
   "source": [
    "# Our own \"Monte Carlo Simulation\" like function\n",
    "def monte_carlo_simulation(runs=1000):\n",
    "    results = np.zeros(2)   # An array, results[0] and results[1] initialized to two zeros\n",
    "    for _ in range(runs):\n",
    "        if roll_dice() == 7:\n",
    "            results[0] += 1\n",
    "        else:\n",
    "            results[1] += 1\n",
    "    return results\n",
    "\n",
    "# Test 3 times and calculate how much will you win or lose\n",
    "print(monte_carlo_simulation())\n",
    "print(monte_carlo_simulation())\n",
    "print(monte_carlo_simulation())\n"
   ]
  },
  {
   "cell_type": "markdown",
   "metadata": {},
   "source": [
    "## Part 3"
   ]
  },
  {
   "cell_type": "code",
   "execution_count": 47,
   "metadata": {},
   "outputs": [
    {
     "name": "stdout",
     "output_type": "stream",
     "text": [
      "[178. 153. 162. 174. 151. 150. 175. 159. 154. 151. 185. 160. 160. 167.\n",
      " 163. 169. 169. 154. 144. 165. 177. 179. 183. 181. 139. 160. 185. 172.\n",
      " 164. 154. 161. 179. 168. 171. 165. 175. 174. 154. 203. 167. 184. 168.\n",
      " 180. 169. 191. 162. 168. 165. 159. 157. 169. 160. 169. 181. 165. 157.\n",
      " 199. 187. 169. 169. 179. 171. 175. 176. 160. 171. 159. 154. 150. 160.\n",
      " 146. 186. 172. 152. 184. 165. 147. 156. 158. 153. 190. 152. 179. 182.\n",
      " 167. 163. 155. 167. 159. 156. 164. 150. 164. 170. 178. 167. 159. 166.\n",
      " 182. 165. 185. 148. 168. 157. 182. 165. 157. 167. 141. 152. 168. 154.\n",
      " 176. 181. 169. 157. 174. 162. 159. 137. 153. 174. 163. 152. 168. 151.\n",
      " 176. 148. 199. 159. 161. 165. 173. 155. 166. 131. 157. 179. 153. 176.\n",
      " 155. 191. 173. 160. 156. 160. 171. 181. 157. 179. 172. 181. 181. 181.\n",
      " 162. 150. 183. 189. 153. 148. 168. 178. 167. 157. 155. 176. 169. 140.\n",
      " 169. 135. 154. 155. 162. 165. 172. 148. 154. 147. 143. 179. 165. 171.\n",
      " 162. 177. 149. 173. 160. 157. 169. 145. 161. 167. 155. 144. 172. 175.\n",
      " 187. 188. 179. 177. 167. 161. 166. 166. 164. 160. 200. 168. 178. 158.\n",
      " 154. 165. 180. 161. 167. 179. 154. 158. 177. 147. 166. 164. 147. 159.\n",
      " 161. 153. 176. 155. 179. 155. 176. 161. 168. 147. 162. 180. 148. 163.\n",
      " 171. 144. 157. 177. 160. 176. 163. 163. 163. 165. 159. 169. 177. 168.\n",
      " 173. 171. 175. 179. 157. 175. 177. 157. 173. 168. 162. 159. 171. 141.\n",
      " 149. 159. 177. 152. 171. 194. 179. 154. 181. 172. 170. 164. 145. 180.\n",
      " 168. 175. 158. 176. 151. 197. 184. 153. 170. 156. 149. 150. 185. 156.\n",
      " 155. 185. 175. 162. 166. 169. 172. 194. 177. 179. 167. 176. 169. 176.\n",
      " 164. 149. 174. 178. 168. 169. 154. 150. 195. 146. 156. 191. 163. 158.\n",
      " 176. 146. 171. 177. 167. 153. 162. 180. 167. 193. 172. 167. 187. 174.\n",
      " 178. 171. 170. 169. 170. 170. 168. 158. 167. 160. 163. 162. 140. 159.\n",
      " 165. 175. 176. 154. 144. 167. 168. 172. 158. 171. 171. 168. 181. 147.\n",
      " 177. 193. 156. 174. 160. 174. 166. 176. 177. 170. 148. 150. 158. 188.\n",
      " 157. 191. 142. 191. 172. 167. 145. 179. 172. 144. 158. 158. 152. 154.\n",
      " 163. 184. 184. 174. 152. 162. 161. 164. 174. 162. 172. 167. 166. 165.\n",
      " 159. 143. 171. 154. 157. 177. 149. 178. 167. 145. 178. 175. 174. 161.\n",
      " 160. 142. 179. 172. 184. 175. 168. 164. 156. 186. 141. 172. 182. 149.\n",
      " 173. 161. 178. 163. 183. 165. 174. 168. 176. 173. 150. 168. 161. 167.\n",
      " 159. 165. 177. 156. 156. 184. 177. 161. 173. 173. 189. 165. 167. 174.\n",
      " 172. 177. 174. 176. 162. 161. 182. 174. 160. 159. 159. 166. 166. 145.\n",
      " 152. 179. 164. 171. 160. 156. 154. 184. 145. 169. 172. 173. 181. 162.\n",
      " 169. 171. 169. 188. 180. 161. 166. 167. 173. 148. 177. 167. 173. 171.\n",
      " 182. 167. 160. 176. 155. 157. 161. 182. 170. 144. 164. 171. 154. 173.\n",
      " 170. 168. 147. 169. 169. 174. 179. 149. 155. 147. 167. 143. 151. 170.\n",
      " 147. 157. 146. 152. 185. 156. 153. 162. 178. 151. 172. 177. 171. 181.\n",
      " 170. 178. 171. 164. 159. 162. 175. 154. 163. 168. 180. 165. 164. 178.\n",
      " 153. 191. 179. 154. 149. 192. 159. 172. 164. 161. 161. 165. 165. 143.\n",
      " 172. 163. 169. 170. 142. 180. 165. 163. 212. 137. 157. 158. 159. 146.\n",
      " 159. 161. 193. 190. 172. 155. 152. 165. 154. 154. 148. 178. 181. 175.\n",
      " 170. 154. 169. 185. 153. 155. 160. 146. 149. 183. 162. 168. 158. 166.\n",
      " 162. 158. 171. 181. 177. 155. 164. 141. 180. 157. 160. 176. 154. 175.\n",
      " 171. 171. 177. 174. 177. 181. 168. 146. 163. 168. 163. 159. 174. 176.\n",
      " 153. 168. 156. 173. 161. 166. 167. 175. 159. 162. 153. 158. 162. 173.\n",
      " 164. 156. 161. 159. 172. 161. 173. 184. 160. 163. 170. 160. 169. 173.\n",
      " 162. 176. 159. 157. 168. 176. 180. 158. 180. 161. 155. 183. 168. 161.\n",
      " 155. 160. 182. 168. 137. 179. 186. 169. 145. 181. 156. 181. 179. 150.\n",
      " 160. 152. 147. 171. 138. 187. 167. 174. 166. 171. 158. 160. 180. 171.\n",
      " 174. 171. 165. 175. 170. 166. 161. 146. 156. 166. 163. 155. 156. 169.\n",
      " 173. 174. 171. 178. 161. 156. 158. 169. 167. 185. 163. 172. 171. 175.\n",
      " 154. 148. 177. 155. 147. 170. 165. 148. 178. 169. 181. 156. 166. 163.\n",
      " 171. 170. 175. 164. 146. 191. 157. 174. 158. 169. 184. 156. 164. 186.\n",
      " 174. 169. 182. 183. 157. 172. 167. 172. 176. 166. 147. 174. 169. 170.\n",
      " 170. 153. 164. 170. 168. 163. 170. 170. 158. 165. 160. 171. 197. 158.\n",
      " 140. 165. 170. 156. 173. 169. 151. 190. 166. 163. 170. 159. 158. 175.\n",
      " 162. 157. 156. 146. 163. 171. 146. 137. 160. 157. 161. 148. 177. 168.\n",
      " 171. 174. 171. 167. 166. 183. 167. 160. 168. 183. 167. 169. 187. 175.\n",
      " 182. 187. 146. 166. 153. 164. 165. 154. 169. 179. 146. 162. 164. 163.\n",
      " 165. 164. 171. 159. 174. 150. 160. 162. 152. 165. 175. 168. 150. 176.\n",
      " 146. 168. 156. 159. 178. 193. 150. 151. 155. 188. 155. 151. 141. 172.\n",
      " 168. 194. 185. 162. 184. 185. 165. 161. 175. 189. 175. 170. 160. 171.\n",
      " 151. 156. 171. 161. 151. 165. 152. 163. 167. 157. 172. 140. 171. 166.\n",
      " 151. 163. 162. 172. 185. 155. 166. 174. 171. 170. 164. 147. 171. 177.\n",
      " 153. 164. 184. 152. 187. 169. 166. 141. 147. 165. 180. 174. 172. 169.\n",
      " 170. 174. 175. 180. 163. 159. 182. 173. 160. 137. 162. 172. 155. 162.\n",
      " 181. 168. 146. 165. 176. 141. 161. 178. 176. 160. 200. 147. 159. 146.\n",
      " 181. 155. 183. 173. 163. 197. 156. 156. 150. 168. 173. 184. 147. 158.\n",
      " 158. 170. 166. 164. 162. 157. 146. 153. 180. 167. 167. 164. 185. 172.\n",
      " 166. 166. 158. 153. 180. 168.]\n"
     ]
    }
   ],
   "source": [
    "# Now do it 1000 times: Take some time\n",
    "results = np.zeros(1000)\n",
    "for i in range(1000):\n",
    "    results[i] = monte_carlo_simulation()[0]\n",
    "print(results)"
   ]
  },
  {
   "cell_type": "code",
   "execution_count": 49,
   "metadata": {},
   "outputs": [
    {
     "data": {
      "image/png": "[encoded data removed]",
      "text/plain": [
       "<Figure size 640x480 with 1 Axes>"
      ]
     },
     "metadata": {},
     "output_type": "display_data"
    }
   ],
   "source": [
    "# Let us plot it\n",
    "import matplotlib.pyplot as plt\n",
    "fig, ax = plt.subplots()\n",
    "ax.hist(results, bins=15)\n",
    "plt.show()\n"
   ]
  },
  {
   "cell_type": "code",
   "execution_count": 50,
   "metadata": {},
   "outputs": [
    {
     "name": "stdout",
     "output_type": "stream",
     "text": [
      "165.936\n",
      "829.6800000000001\n",
      "834.064\n"
     ]
    }
   ],
   "source": [
    "# Our win/loss\n",
    "print(results.mean())               # General Mean\n",
    "print(results.mean()*5)             # What we will get as win on average\n",
    "print(1000- results.mean())         # What we will pay on average\n"
   ]
  },
  {
   "cell_type": "markdown",
   "metadata": {},
   "source": [
    "# Investment Risk analysis using Monte Carlo"
   ]
  },
  {
   "cell_type": "code",
   "execution_count": 53,
   "metadata": {},
   "outputs": [],
   "source": [
    "import numpy as np\n",
    "import matplotlib.pyplot as plt\n"
   ]
  },
  {
   "cell_type": "code",
   "execution_count": 85,
   "metadata": {},
   "outputs": [],
   "source": [
    "# Parameters\n",
    "initial_investment = 10000  # Initial Investmetn in dollars\n",
    "mean_return = 0.15          # Expected annual return\n",
    "std_dev = 0.15              # Standard deviation of returns\n",
    "num_simulations = 1000      # Number of Monte carlo simulations\n",
    "\n",
    "# Monte Carlo Simulations\n",
    "simulated_end_values = []\n",
    "for _ in range(num_simulations):\n",
    "    # Generate a random annual return for each simulation\n",
    "    random_return = np.random.normal(mean_return, std_dev)\n",
    "    # End value at the end of one year of investment\n",
    "    end_value = initial_investment * (1 + random_return)\n",
    "    # Store it in a list\n",
    "    simulated_end_values.append(end_value)"
   ]
  },
  {
   "cell_type": "code",
   "execution_count": 86,
   "metadata": {},
   "outputs": [
    {
     "name": "stdout",
     "output_type": "stream",
     "text": [
      "Mean end Value: $11525.91\n",
      "Probability of loss: 16.10%\n"
     ]
    }
   ],
   "source": [
    "# Results\n",
    "mean_end_value = np.mean(simulated_end_values)      # Mean of all simulated end values\n",
    "# Proportion of cases where we have a a loss ( End annual value < Initial investment)\n",
    "risk_of_loss = np.mean(np.array(simulated_end_values) < initial_investment)\n",
    "print(f\"Mean end Value: ${mean_end_value:.2f}\")\n",
    "print(f\"Probability of loss: {risk_of_loss*100:.2f}%\")"
   ]
  },
  {
   "cell_type": "markdown",
   "metadata": {},
   "source": [
    "## Exercise 1\n",
    "    - The above example assumes just one year holding period. Increase it to 5 and 10 years resp and calculate similar output as above."
   ]
  },
  {
   "cell_type": "code",
   "execution_count": 94,
   "metadata": {},
   "outputs": [
    {
     "name": "stdout",
     "output_type": "stream",
     "text": [
      "Mean end Value: $40726.12\n",
      "Probability of loss: 0.00%\n"
     ]
    }
   ],
   "source": [
    "# Parameters\n",
    "initial_investment = 10000  # Initial Investmetn in dollars\n",
    "mean_return = 0.15          # Expected annual return\n",
    "std_dev = 0.15              # Standard deviation of returns\n",
    "num_simulations = 1000      # Number of Monte carlo simulations\n",
    "\n",
    "# Monte Carlo Simulations\n",
    "simulated_end_values = []\n",
    "for _ in range(num_simulations):\n",
    "    \n",
    "    # End value at the end of one year of investment\n",
    "    tmp = initial_investment\n",
    "    for i in range(1,11):\n",
    "        # Generate a random annual return for each simulation\n",
    "        random_return = np.random.normal(mean_return, std_dev)\n",
    "        # print(i, tmp)\n",
    "        tmp = tmp * (1 + random_return)\n",
    "    end_value = tmp\n",
    "    # Store it in a list\n",
    "    simulated_end_values.append(end_value)\n",
    "    \n",
    "# Results\n",
    "mean_end_value = np.mean(simulated_end_values)      # Mean of all simulated end values\n",
    "# Proportion of cases where we have a a loss ( End annual value < Initial investment)\n",
    "risk_of_loss = np.mean(np.array(simulated_end_values) < initial_investment)\n",
    "print(f\"Mean end Value: ${mean_end_value:.2f}\")\n",
    "print(f\"Probability of loss: {risk_of_loss*100:.2f}%\")"
   ]
  },
  {
   "cell_type": "markdown",
   "metadata": {},
   "source": [
    "## Exercise 2\n",
    "    "
   ]
  },
  {
   "cell_type": "code",
   "execution_count": null,
   "metadata": {},
   "outputs": [],
   "source": [
    "# Parameters\n",
    "initial_investment = 50000  # Initial Investmetn in dollars\n",
    "success_rate = 0.2          # Probability of succesful outcome\n",
    "failure_loss = 0.5          # Fraction of investment lost in case of failure\n",
    "success_multiplier = 10     # Multiplier on investment if successful\n",
    "num_simulations = 10000\n",
    "\n",
    "success = np.random.choice([1,0], p=[success_rate, 1-success_rate])\n",
    "\n"
   ]
  },
  {
   "cell_type": "code",
   "execution_count": 102,
   "metadata": {},
   "outputs": [
    {
     "name": "stdout",
     "output_type": "stream",
     "text": [
      "Mean Final Value: $500000.00\n",
      "Probability of Loss: 0.00%\n"
     ]
    }
   ],
   "source": [
    "\n",
    "# Parameters\n",
    "initial_investment = 50000  # Initial investment in dollars\n",
    "success_rate = 0.2          # Probability of successful outcome\n",
    "failure_loss = 0.5          # Fraction of investment lost in case of failure\n",
    "success_multiplier = 10     # Multiplier on investment if successful\n",
    "num_simulations = 10000     # Number of simulations\n",
    "\n",
    "# Monte Carlo Simulation\n",
    "final_values = []\n",
    "for _ in range(num_simulations):\n",
    "    # Simulate whether the startup succeeds (1 if success, 0 otherwise)\n",
    "    success = np.random.choice([1,0], p=[success_rate, 1- success_rate])\n",
    "    if success:\n",
    "        final_value = initial_investment * success_multiplier\n",
    "    else:\n",
    "        final_value = initial_investment * (1 - failure_loss)\n",
    "    final_values.append(final_value)\n",
    "\n",
    "# Result\n",
    "mean_final_value = np.mean(final_value)\n",
    "risk_of_loss = np.mean(np.array(final_value) < initial_investment)\n",
    "\n",
    "print(f\"Mean Final Value: ${mean_final_value:.2f}\")\n",
    "print(f\"Probability of Loss: {risk_of_loss*100:.2f}%\")\n"
   ]
  },
  {
   "cell_type": "markdown",
   "metadata": {},
   "source": [
    "## Exercise 3\n",
    "    - In general, 5% people who take loans, default. We are still able to recover 30% of their loan amount. For a Loan amount of \n",
    "    $10,000  simulate 10000 cases to find the average loss and probability of default using Monte Carlo"
   ]
  },
  {
   "cell_type": "code",
   "execution_count": 110,
   "metadata": {},
   "outputs": [
    {
     "name": "stdout",
     "output_type": "stream",
     "text": [
      "Mean Final Value: $7000.00\n",
      "Probability of Loss: 100.00%\n"
     ]
    }
   ],
   "source": [
    "\n",
    "# Parameters for Loan Default Simulation\n",
    "loan_amount = 10000         # Loan amount in dollars\n",
    "default_rate = 0.05         # Probability of default\n",
    "recovery_rate = 0.3         # Fraction of loan amount recovered in case of default\n",
    "num_loan_simulations = 10000  # Number of simulations for loan default\n",
    "\n",
    "# Monte Carlo Simulation\n",
    "final_values = []\n",
    "for _ in range(num_loan_simulations):\n",
    "    # Simulate whether the startup succeeds (1 if success, 0 otherwise)\n",
    "    success = np.random.choice([1,0], p=[default_rate, 1- default_rate])\n",
    "    if success:\n",
    "        final_value = loan_amount * recovery_rate\n",
    "    else:\n",
    "        final_value = loan_amount * (1 - recovery_rate)\n",
    "    final_values.append(final_value)\n",
    "\n",
    "# Result\n",
    "mean_final_value = np.mean(final_value)\n",
    "risk_of_loss = np.mean(np.array(final_value) < initial_investment)\n",
    "\n",
    "print(f\"Mean Final Value: ${mean_final_value:.2f}\")\n",
    "print(f\"Probability of Loss: {risk_of_loss*100:.2f}%\")\n"
   ]
  },
  {
   "cell_type": "markdown",
   "metadata": {},
   "source": [
    "# Ice cream DATASET\n"
   ]
  },
  {
   "cell_type": "code",
   "execution_count": 1,
   "metadata": {},
   "outputs": [],
   "source": [
    "# Predit ice cream sales using Monte Carlo method\n",
    "import pandas as pd\n",
    "import numpy as np\n",
    "import matplotlib.pyplot as plt"
   ]
  },
  {
   "cell_type": "code",
   "execution_count": 2,
   "metadata": {},
   "outputs": [],
   "source": [
    "df = pd.read_csv(\"./data_pd/ice_cream.csv\")"
   ]
  },
  {
   "cell_type": "code",
   "execution_count": 3,
   "metadata": {},
   "outputs": [],
   "source": [
    "df.set_index(\"DATE\", inplace=True)"
   ]
  },
  {
   "cell_type": "code",
   "execution_count": 4,
   "metadata": {},
   "outputs": [],
   "source": [
    "# Calculate monthly growth rates\n",
    "# pct_change() function calculates the percentage change between the previous and current month\n",
    "# If previous month contains 0, it will use NaN to avoid exceptions\n",
    "df['growth_rate'] = df['IPN31152N'].pct_change()"
   ]
  },
  {
   "cell_type": "code",
   "execution_count": 66,
   "metadata": {},
   "outputs": [],
   "source": [
    "# Parameters for simulation\n",
    "mean_growth_rate = df['growth_rate'].mean()\n",
    "std_dev_growth_rate = df['growth_rate'].std()\n",
    "last_sale = df['IPN31152N'].iloc[-1]\n",
    "last_date = df.index[-1]\n",
    "last_date = df[round(len(df)*98/100):].index[0]\n",
    "num_simulations = 1000\n",
    "forecast_horizons = 36\n",
    "\n",
    "# Monte Carlo SImulations\n",
    "simulated_sales_data = []\n",
    "for _ in range(num_simulations):\n",
    "    monthly_sales = last_sale\n",
    "    sale_data = []\n",
    "    for _ in range(forecast_horizons):\n",
    "        growth_rate = np.random.normal(mean_growth_rate, std_dev_growth_rate)\n",
    "        monthly_sales *= (1 + growth_rate)\n",
    "        sale_data.append(monthly_sales)\n",
    "    simulated_sales_data.append(sale_data)\n",
    "\n",
    "# Average sales prediction for each month\n",
    "mean_sales_per_month = np.mean(simulated_sales_data, axis=0)\n",
    "\n"
   ]
  },
  {
   "cell_type": "code",
   "execution_count": 68,
   "metadata": {},
   "outputs": [
    {
     "data": {
      "text/plain": [
       "'2019-02-01'"
      ]
     },
     "execution_count": 68,
     "metadata": {},
     "output_type": "execute_result"
    }
   ],
   "source": [
    "last_date"
   ]
  },
  {
   "cell_type": "code",
   "execution_count": 95,
   "metadata": {},
   "outputs": [],
   "source": [
    "future_dates = []\n",
    "# Loop through the number of month to generate\n",
    "for i in range(1, forecast_horizons+1):\n",
    "    future_date = pd.to_datetime(last_date) + pd.DateOffset(months=i)\n",
    "    future_dates.append(future_date)"
   ]
  },
  {
   "cell_type": "code",
   "execution_count": 96,
   "metadata": {},
   "outputs": [
    {
     "data": {
      "text/html": [
       "<div>\n",
       "<style scoped>\n",
       "    .dataframe tbody tr th:only-of-type {\n",
       "        vertical-align: middle;\n",
       "    }\n",
       "\n",
       "    .dataframe tbody tr th {\n",
       "        vertical-align: top;\n",
       "    }\n",
       "\n",
       "    .dataframe thead th {\n",
       "        text-align: right;\n",
       "    }\n",
       "</style>\n",
       "<table border=\"1\" class=\"dataframe\">\n",
       "  <thead>\n",
       "    <tr style=\"text-align: right;\">\n",
       "      <th></th>\n",
       "      <th>DATE</th>\n",
       "      <th>Predicted_Sales</th>\n",
       "    </tr>\n",
       "  </thead>\n",
       "  <tbody>\n",
       "    <tr>\n",
       "      <th>0</th>\n",
       "      <td>2019-03-01</td>\n",
       "      <td>84.327256</td>\n",
       "    </tr>\n",
       "    <tr>\n",
       "      <th>1</th>\n",
       "      <td>2019-04-01</td>\n",
       "      <td>85.107730</td>\n",
       "    </tr>\n",
       "    <tr>\n",
       "      <th>2</th>\n",
       "      <td>2019-05-01</td>\n",
       "      <td>86.170238</td>\n",
       "    </tr>\n",
       "    <tr>\n",
       "      <th>3</th>\n",
       "      <td>2019-06-01</td>\n",
       "      <td>86.710787</td>\n",
       "    </tr>\n",
       "    <tr>\n",
       "      <th>4</th>\n",
       "      <td>2019-07-01</td>\n",
       "      <td>87.155702</td>\n",
       "    </tr>\n",
       "    <tr>\n",
       "      <th>5</th>\n",
       "      <td>2019-08-01</td>\n",
       "      <td>87.946778</td>\n",
       "    </tr>\n",
       "    <tr>\n",
       "      <th>6</th>\n",
       "      <td>2019-09-01</td>\n",
       "      <td>88.502964</td>\n",
       "    </tr>\n",
       "    <tr>\n",
       "      <th>7</th>\n",
       "      <td>2019-10-01</td>\n",
       "      <td>88.722560</td>\n",
       "    </tr>\n",
       "    <tr>\n",
       "      <th>8</th>\n",
       "      <td>2019-11-01</td>\n",
       "      <td>89.890655</td>\n",
       "    </tr>\n",
       "    <tr>\n",
       "      <th>9</th>\n",
       "      <td>2019-12-01</td>\n",
       "      <td>90.439588</td>\n",
       "    </tr>\n",
       "    <tr>\n",
       "      <th>10</th>\n",
       "      <td>2020-01-01</td>\n",
       "      <td>91.603592</td>\n",
       "    </tr>\n",
       "    <tr>\n",
       "      <th>11</th>\n",
       "      <td>2020-02-01</td>\n",
       "      <td>92.048972</td>\n",
       "    </tr>\n",
       "    <tr>\n",
       "      <th>12</th>\n",
       "      <td>2020-03-01</td>\n",
       "      <td>92.709545</td>\n",
       "    </tr>\n",
       "    <tr>\n",
       "      <th>13</th>\n",
       "      <td>2020-04-01</td>\n",
       "      <td>93.829333</td>\n",
       "    </tr>\n",
       "    <tr>\n",
       "      <th>14</th>\n",
       "      <td>2020-05-01</td>\n",
       "      <td>94.507429</td>\n",
       "    </tr>\n",
       "    <tr>\n",
       "      <th>15</th>\n",
       "      <td>2020-06-01</td>\n",
       "      <td>95.161787</td>\n",
       "    </tr>\n",
       "    <tr>\n",
       "      <th>16</th>\n",
       "      <td>2020-07-01</td>\n",
       "      <td>95.975043</td>\n",
       "    </tr>\n",
       "    <tr>\n",
       "      <th>17</th>\n",
       "      <td>2020-08-01</td>\n",
       "      <td>96.403759</td>\n",
       "    </tr>\n",
       "    <tr>\n",
       "      <th>18</th>\n",
       "      <td>2020-09-01</td>\n",
       "      <td>96.886083</td>\n",
       "    </tr>\n",
       "    <tr>\n",
       "      <th>19</th>\n",
       "      <td>2020-10-01</td>\n",
       "      <td>97.450204</td>\n",
       "    </tr>\n",
       "    <tr>\n",
       "      <th>20</th>\n",
       "      <td>2020-11-01</td>\n",
       "      <td>98.097817</td>\n",
       "    </tr>\n",
       "    <tr>\n",
       "      <th>21</th>\n",
       "      <td>2020-12-01</td>\n",
       "      <td>99.450967</td>\n",
       "    </tr>\n",
       "    <tr>\n",
       "      <th>22</th>\n",
       "      <td>2021-01-01</td>\n",
       "      <td>99.631259</td>\n",
       "    </tr>\n",
       "    <tr>\n",
       "      <th>23</th>\n",
       "      <td>2021-02-01</td>\n",
       "      <td>100.762738</td>\n",
       "    </tr>\n",
       "    <tr>\n",
       "      <th>24</th>\n",
       "      <td>2021-03-01</td>\n",
       "      <td>101.350452</td>\n",
       "    </tr>\n",
       "    <tr>\n",
       "      <th>25</th>\n",
       "      <td>2021-04-01</td>\n",
       "      <td>101.640548</td>\n",
       "    </tr>\n",
       "    <tr>\n",
       "      <th>26</th>\n",
       "      <td>2021-05-01</td>\n",
       "      <td>102.337398</td>\n",
       "    </tr>\n",
       "    <tr>\n",
       "      <th>27</th>\n",
       "      <td>2021-06-01</td>\n",
       "      <td>102.750658</td>\n",
       "    </tr>\n",
       "    <tr>\n",
       "      <th>28</th>\n",
       "      <td>2021-07-01</td>\n",
       "      <td>103.439444</td>\n",
       "    </tr>\n",
       "    <tr>\n",
       "      <th>29</th>\n",
       "      <td>2021-08-01</td>\n",
       "      <td>104.129046</td>\n",
       "    </tr>\n",
       "    <tr>\n",
       "      <th>30</th>\n",
       "      <td>2021-09-01</td>\n",
       "      <td>104.928857</td>\n",
       "    </tr>\n",
       "    <tr>\n",
       "      <th>31</th>\n",
       "      <td>2021-10-01</td>\n",
       "      <td>105.713466</td>\n",
       "    </tr>\n",
       "    <tr>\n",
       "      <th>32</th>\n",
       "      <td>2021-11-01</td>\n",
       "      <td>106.679471</td>\n",
       "    </tr>\n",
       "    <tr>\n",
       "      <th>33</th>\n",
       "      <td>2021-12-01</td>\n",
       "      <td>107.053036</td>\n",
       "    </tr>\n",
       "    <tr>\n",
       "      <th>34</th>\n",
       "      <td>2022-01-01</td>\n",
       "      <td>107.673803</td>\n",
       "    </tr>\n",
       "    <tr>\n",
       "      <th>35</th>\n",
       "      <td>2022-02-01</td>\n",
       "      <td>108.961638</td>\n",
       "    </tr>\n",
       "  </tbody>\n",
       "</table>\n",
       "</div>"
      ],
      "text/plain": [
       "         DATE  Predicted_Sales\n",
       "0  2019-03-01        84.327256\n",
       "1  2019-04-01        85.107730\n",
       "2  2019-05-01        86.170238\n",
       "3  2019-06-01        86.710787\n",
       "4  2019-07-01        87.155702\n",
       "5  2019-08-01        87.946778\n",
       "6  2019-09-01        88.502964\n",
       "7  2019-10-01        88.722560\n",
       "8  2019-11-01        89.890655\n",
       "9  2019-12-01        90.439588\n",
       "10 2020-01-01        91.603592\n",
       "11 2020-02-01        92.048972\n",
       "12 2020-03-01        92.709545\n",
       "13 2020-04-01        93.829333\n",
       "14 2020-05-01        94.507429\n",
       "15 2020-06-01        95.161787\n",
       "16 2020-07-01        95.975043\n",
       "17 2020-08-01        96.403759\n",
       "18 2020-09-01        96.886083\n",
       "19 2020-10-01        97.450204\n",
       "20 2020-11-01        98.097817\n",
       "21 2020-12-01        99.450967\n",
       "22 2021-01-01        99.631259\n",
       "23 2021-02-01       100.762738\n",
       "24 2021-03-01       101.350452\n",
       "25 2021-04-01       101.640548\n",
       "26 2021-05-01       102.337398\n",
       "27 2021-06-01       102.750658\n",
       "28 2021-07-01       103.439444\n",
       "29 2021-08-01       104.129046\n",
       "30 2021-09-01       104.928857\n",
       "31 2021-10-01       105.713466\n",
       "32 2021-11-01       106.679471\n",
       "33 2021-12-01       107.053036\n",
       "34 2022-01-01       107.673803\n",
       "35 2022-02-01       108.961638"
      ]
     },
     "execution_count": 96,
     "metadata": {},
     "output_type": "execute_result"
    }
   ],
   "source": [
    "# Create a dataframe for predictions\n",
    "predicted_sales_df = pd.DataFrame({\n",
    "    \"DATE\": future_dates,\n",
    "    \"Predicted_Sales\": mean_sales_per_month\n",
    "})\n",
    "predicted_sales_df"
   ]
  },
  {
   "cell_type": "code",
   "execution_count": 97,
   "metadata": {},
   "outputs": [
    {
     "name": "stdout",
     "output_type": "stream",
     "text": [
      "\n",
      "Expected Total Sales (NExt 3 Years): $3476.15\n",
      "\n",
      "Probability of decline in total sales: 0.30%\n"
     ]
    }
   ],
   "source": [
    "# Results\n",
    "mean_total_sales = np.sum(mean_sales_per_month)\n",
    "risk_of_decline = np.mean([np.sum(sale_data) < (12 * last_sale) for sale_data in simulated_sales_data])\n",
    "print(f\"\\nExpected Total Sales (NExt 3 Years): ${mean_total_sales:.2f}\")\n",
    "print(f\"\\nProbability of decline in total sales: {risk_of_decline*100:.2f}%\")\n"
   ]
  },
  {
   "cell_type": "code",
   "execution_count": 98,
   "metadata": {},
   "outputs": [
    {
     "data": {
      "image/png": "[encoded data removed]",
      "text/plain": [
       "<Figure size 640x480 with 1 Axes>"
      ]
     },
     "metadata": {},
     "output_type": "display_data"
    }
   ],
   "source": [
    "# Visulaization\n",
    "plt.hist([np.sum(sale_data) for sale_data in simulated_sales_data], bins=30, edgecolor='k')\n",
    "plt.title('Simulate Total Sales Distribution (Next 3 years)')\n",
    "plt.xlabel('Total Sales ($)')\n",
    "plt.ylabel('Frequency')\n",
    "plt.axvline(mean_total_sales, color='red', linestyle='dashed', linewidth=1, label=f\"Mean: ${mean_total_sales:.2f}\")\n",
    "plt.legend()\n",
    "plt.show()"
   ]
  },
  {
   "cell_type": "code",
   "execution_count": 99,
   "metadata": {},
   "outputs": [
    {
     "data": {
      "image/png": "[encoded data removed]",
      "text/plain": [
       "<Figure size 640x480 with 1 Axes>"
      ]
     },
     "metadata": {},
     "output_type": "display_data"
    }
   ],
   "source": [
    "import seaborn as sns\n",
    "sns.lineplot(data=predicted_sales_df, x=predicted_sales_df['DATE'], y=predicted_sales_df['Predicted_Sales'])\n",
    "sns.lineplot(data=df, x=df.index, y=df['IPN31152N'])\n",
    "plt.show()"
   ]
  },
  {
   "cell_type": "code",
   "execution_count": 100,
   "metadata": {},
   "outputs": [
    {
     "data": {
      "text/plain": [
       "Index(['1972-01-01', '1972-02-01', '1972-03-01', '1972-04-01', '1972-05-01',\n",
       "       '1972-06-01', '1972-07-01', '1972-08-01', '1972-09-01', '1972-10-01',\n",
       "       ...\n",
       "       '2019-04-01', '2019-05-01', '2019-06-01', '2019-07-01', '2019-08-01',\n",
       "       '2019-09-01', '2019-10-01', '2019-11-01', '2019-12-01', '2020-01-01'],\n",
       "      dtype='object', name='DATE', length=577)"
      ]
     },
     "execution_count": 100,
     "metadata": {},
     "output_type": "execute_result"
    }
   ],
   "source": [
    "df.index"
   ]
  },
  {
   "cell_type": "code",
   "execution_count": 101,
   "metadata": {},
   "outputs": [
    {
     "data": {
      "text/plain": [
       "0    2019-03-01\n",
       "1    2019-04-01\n",
       "2    2019-05-01\n",
       "3    2019-06-01\n",
       "4    2019-07-01\n",
       "5    2019-08-01\n",
       "6    2019-09-01\n",
       "7    2019-10-01\n",
       "8    2019-11-01\n",
       "9    2019-12-01\n",
       "10   2020-01-01\n",
       "11   2020-02-01\n",
       "12   2020-03-01\n",
       "13   2020-04-01\n",
       "14   2020-05-01\n",
       "15   2020-06-01\n",
       "16   2020-07-01\n",
       "17   2020-08-01\n",
       "18   2020-09-01\n",
       "19   2020-10-01\n",
       "20   2020-11-01\n",
       "21   2020-12-01\n",
       "22   2021-01-01\n",
       "23   2021-02-01\n",
       "24   2021-03-01\n",
       "25   2021-04-01\n",
       "26   2021-05-01\n",
       "27   2021-06-01\n",
       "28   2021-07-01\n",
       "29   2021-08-01\n",
       "30   2021-09-01\n",
       "31   2021-10-01\n",
       "32   2021-11-01\n",
       "33   2021-12-01\n",
       "34   2022-01-01\n",
       "35   2022-02-01\n",
       "Name: DATE, dtype: datetime64[ns]"
      ]
     },
     "execution_count": 101,
     "metadata": {},
     "output_type": "execute_result"
    }
   ],
   "source": [
    "predicted_sales_df['DATE']"
   ]
  },
  {
   "cell_type": "code",
   "execution_count": null,
   "metadata": {},
   "outputs": [],
   "source": []
  }
 ],
 "metadata": {
  "kernelspec": {
   "display_name": "dung",
   "language": "python",
   "name": "python3"
  },
  "language_info": {
   "codemirror_mode": {
    "name": "ipython",
    "version": 3
   },
   "file_extension": ".py",
   "mimetype": "text/x-python",
   "name": "python",
   "nbconvert_exporter": "python",
   "pygments_lexer": "ipython3",
   "version": "3.10.15"
  }
 },
 "nbformat": 4,
 "nbformat_minor": 2
}
