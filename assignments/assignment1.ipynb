{
 "cells": [
  {
   "cell_type": "markdown",
   "metadata": {},
   "source": [
    "# NumPy"
   ]
  },
  {
   "cell_type": "code",
   "execution_count": 1,
   "metadata": {},
   "outputs": [],
   "source": [
    "import numpy as np"
   ]
  },
  {
   "cell_type": "code",
   "execution_count": 2,
   "metadata": {},
   "outputs": [
    {
     "data": {
      "text/plain": [
       "array([0., 0., 0., 0., 0., 0., 0., 0., 0., 0.])"
      ]
     },
     "execution_count": 2,
     "metadata": {},
     "output_type": "execute_result"
    }
   ],
   "source": [
    "# 1. Create an array of 10 zeros.\n",
    "zeros = np.zeros(10)\n",
    "zeros"
   ]
  },
  {
   "cell_type": "code",
   "execution_count": 3,
   "metadata": {},
   "outputs": [
    {
     "data": {
      "text/plain": [
       "array([1., 1., 1., 1., 1., 1., 1., 1., 1., 1.])"
      ]
     },
     "execution_count": 3,
     "metadata": {},
     "output_type": "execute_result"
    }
   ],
   "source": [
    "# 2. Create an array of 10 ones.\n",
    "ones = np.ones(10)\n",
    "ones"
   ]
  },
  {
   "cell_type": "code",
   "execution_count": 4,
   "metadata": {},
   "outputs": [
    {
     "data": {
      "text/plain": [
       "array([5, 5, 5, 5, 5, 5, 5, 5, 5, 5])"
      ]
     },
     "execution_count": 4,
     "metadata": {},
     "output_type": "execute_result"
    }
   ],
   "source": [
    "# 3. Create an array of 10 fives.\n",
    "fives = np.full(10, 5)\n",
    "fives"
   ]
  },
  {
   "cell_type": "code",
   "execution_count": 5,
   "metadata": {},
   "outputs": [
    {
     "data": {
      "text/plain": [
       "array([10, 11, 12, 13, 14, 15, 16, 17, 18, 19, 20, 21, 22, 23, 24, 25, 26,\n",
       "       27, 28, 29, 30, 31, 32, 33, 34, 35, 36, 37, 38, 39, 40, 41, 42, 43,\n",
       "       44, 45, 46, 47, 48, 49])"
      ]
     },
     "execution_count": 5,
     "metadata": {},
     "output_type": "execute_result"
    }
   ],
   "source": [
    "# 4. Create an array of the integers from 10 to 50.\n",
    "arr = np.arange(10, 50)\n",
    "arr"
   ]
  },
  {
   "cell_type": "code",
   "execution_count": 6,
   "metadata": {},
   "outputs": [
    {
     "data": {
      "text/plain": [
       "array([10, 12, 14, 16, 18, 20, 22, 24, 26, 28, 30, 32, 34, 36, 38, 40, 42,\n",
       "       44, 46, 48])"
      ]
     },
     "execution_count": 6,
     "metadata": {},
     "output_type": "execute_result"
    }
   ],
   "source": [
    "# 5. Create an array of all the even integers from 10 to 50.\n",
    "arr = np.arange(10, 50, 2)\n",
    "arr"
   ]
  },
  {
   "cell_type": "code",
   "execution_count": 8,
   "metadata": {},
   "outputs": [
    {
     "data": {
      "text/plain": [
       "array([[0, 1, 2],\n",
       "       [3, 4, 5],\n",
       "       [6, 7, 8]])"
      ]
     },
     "execution_count": 8,
     "metadata": {},
     "output_type": "execute_result"
    }
   ],
   "source": [
    "# 6. Create a 3x3 matrix with values ranging from 0 to # 8.\n",
    "matrix = np.arange(9).reshape(3, 3)\n",
    "matrix"
   ]
  },
  {
   "cell_type": "code",
   "execution_count": 14,
   "metadata": {},
   "outputs": [
    {
     "name": "stdout",
     "output_type": "stream",
     "text": [
      "[[1. 0. 0.]\n",
      " [0. 1. 0.]\n",
      " [0. 0. 1.]]\n",
      "============\n",
      "[[1. 0. 0.]\n",
      " [0. 1. 0.]\n",
      " [0. 0. 1.]]\n"
     ]
    }
   ],
   "source": [
    "# 7. Create a 3x3 identity matrix.\n",
    "identity_matrix = np.identity(3)\n",
    "print(identity_matrix)\n",
    "print(\"=\"*12)\n",
    "identity_matrix_eye = np.eye(3)\n",
    "print(identity_matrix_eye)"
   ]
  },
  {
   "cell_type": "code",
   "execution_count": 15,
   "metadata": {},
   "outputs": [
    {
     "data": {
      "text/plain": [
       "0.08027272663589669"
      ]
     },
     "execution_count": 15,
     "metadata": {},
     "output_type": "execute_result"
    }
   ],
   "source": [
    "# 8. Use NumPy to generate a random number between 0 and 1.\n",
    "rand = np.random.rand()\n",
    "rand"
   ]
  },
  {
   "cell_type": "code",
   "execution_count": 16,
   "metadata": {},
   "outputs": [
    {
     "data": {
      "text/plain": [
       "array([ 0.37708931, -1.59463301,  0.77946865, -0.28068625,  0.38016134,\n",
       "        0.07862903,  0.20052883,  0.26463157, -1.53034453, -1.09685699,\n",
       "       -1.15169549, -0.42008211,  0.29804899,  1.79241166,  0.07503812,\n",
       "       -0.33920277, -0.29354285, -0.07952777,  0.93242893, -0.48067338,\n",
       "       -0.95660275, -0.49425752,  0.89728026, -0.2543142 , -0.32482008])"
      ]
     },
     "execution_count": 16,
     "metadata": {},
     "output_type": "execute_result"
    }
   ],
   "source": [
    "# 9. Use NumPy to generate an array of 25 random numbers sampled from a standard normal distribution.\n",
    "rand_arr = np.random.randn(25)\n",
    "rand_arr"
   ]
  },
  {
   "cell_type": "code",
   "execution_count": 19,
   "metadata": {},
   "outputs": [
    {
     "data": {
      "text/plain": [
       "array([0.        , 0.05263158, 0.10526316, 0.15789474, 0.21052632,\n",
       "       0.26315789, 0.31578947, 0.36842105, 0.42105263, 0.47368421,\n",
       "       0.52631579, 0.57894737, 0.63157895, 0.68421053, 0.73684211,\n",
       "       0.78947368, 0.84210526, 0.89473684, 0.94736842, 1.        ])"
      ]
     },
     "execution_count": 19,
     "metadata": {},
     "output_type": "execute_result"
    }
   ],
   "source": [
    "# 10. Create an array of 20 linearly spaced points between 0 and 1.\n",
    "linearly_space = np.linspace(0, 1, 20)\n",
    "linearly_space"
   ]
  },
  {
   "cell_type": "code",
   "execution_count": 21,
   "metadata": {},
   "outputs": [
    {
     "data": {
      "text/plain": [
       "array([[ 1,  2,  3,  4,  5],\n",
       "       [ 6,  7,  8,  9, 10],\n",
       "       [11, 12, 13, 14, 15],\n",
       "       [16, 17, 18, 19, 20],\n",
       "       [21, 22, 23, 24, 25]])"
      ]
     },
     "execution_count": 21,
     "metadata": {},
     "output_type": "execute_result"
    }
   ],
   "source": [
    "# 11. Create a 5x5 matrix with values from 1 to 25.\n",
    "matrix = np.arange(1, 26).reshape(5, 5)\n",
    "matrix"
   ]
  },
  {
   "cell_type": "code",
   "execution_count": 31,
   "metadata": {},
   "outputs": [
    {
     "name": "stdout",
     "output_type": "stream",
     "text": [
      "arr_2d:\n",
      " [[ 0  1  2  3]\n",
      " [ 4  5  6  7]\n",
      " [ 8  9 10 11]]\n",
      "first row: [0 1 2 3]\n",
      "first row: [[0 1 2 3]]\n",
      "===============\n",
      "arr_2d_1:\n",
      " [[1 2 3]\n",
      " [4 5 6]\n",
      " [7 8 9]]\n",
      "first row: [1 2 3]\n",
      "first row: [[1 2 3]]\n"
     ]
    }
   ],
   "source": [
    "# 12. Extract the first row of a 2D array.\n",
    "arr_2d = np.arange(12).reshape(3, 4)\n",
    "print(\"arr_2d:\\n\", arr_2d)\n",
    "print(\"first row:\", arr_2d[0])\n",
    "print(\"first row:\", arr_2d[:1, :])\n",
    "\n",
    "print(\"=\"*15)\n",
    "arr_2d_1 = np.array([[1,2,3],[4,5,6],[7,8,9]])\n",
    "print(\"arr_2d_1:\\n\", arr_2d_1)\n",
    "print(\"first row:\", arr_2d_1[0])\n",
    "print(\"first row:\", arr_2d_1[:1, :])"
   ]
  },
  {
   "cell_type": "code",
   "execution_count": 53,
   "metadata": {},
   "outputs": [
    {
     "name": "stdout",
     "output_type": "stream",
     "text": [
      "Arrays 2D:\n",
      " [[ 0  1  2  3]\n",
      " [ 4  5  6  7]\n",
      " [ 8  9 10 11]]\n",
      "last column: [ 3  7 11]\n",
      "last column: [ 3  7 11]\n",
      "last column:\n",
      " [[ 3]\n",
      " [ 7]\n",
      " [11]]\n"
     ]
    }
   ],
   "source": [
    "# 13. Extract the last column of a 2D array.\n",
    "print(\"Arrays 2D:\\n\", arr_2d)\n",
    "print(\"last column:\", arr_2d[:, 3])\n",
    "print(\"last column:\", arr_2d[:, -1])\n",
    "print(\"last column:\\n\", arr_2d[:, -1:])"
   ]
  },
  {
   "cell_type": "code",
   "execution_count": 51,
   "metadata": {},
   "outputs": [
    {
     "name": "stdout",
     "output_type": "stream",
     "text": [
      "Arrays:\n",
      " [ 1  2  5  7  9 10]\n",
      "Sum arr_sum_1d:  34\n",
      "Arrays:\n",
      " [[7 2 7]\n",
      " [8 3 9]\n",
      " [7 1 6]]\n",
      "Sum arr_sum_1d:  50\n"
     ]
    }
   ],
   "source": [
    "# 14. Find the sum of all elements in an array.\n",
    "arr_sum_1d = np.array([1,2,5,7,9,10])\n",
    "sum_1 = arr_sum_1d.sum()\n",
    "print(\"Arrays:\\n\", arr_sum_1d)\n",
    "print(\"Sum arr_sum_1d: \", sum_1)\n",
    "\n",
    "arr_sum_2d = np.random.randint(1, 10, (3, 3))\n",
    "sum_2 = arr_sum_2d.sum()\n",
    "print(\"Arrays:\\n\", arr_sum_2d)\n",
    "print(\"Sum arr_sum_1d: \", sum_2)"
   ]
  },
  {
   "cell_type": "code",
   "execution_count": 50,
   "metadata": {},
   "outputs": [
    {
     "name": "stdout",
     "output_type": "stream",
     "text": [
      "Arrays:\n",
      " [ 1  2  5  7  9 10]\n",
      "standard deviation:  3.34995854037363\n",
      "===============\n",
      "Arrays:\n",
      " [[5 2 1]\n",
      " [6 3 5]\n",
      " [6 4 3]]\n",
      "standard deviation:  1.6629588385661962\n"
     ]
    }
   ],
   "source": [
    "# 15. Find the standard deviation of an array.\n",
    "std_1 = arr_sum_1d.std()\n",
    "print(\"Arrays:\\n\", arr_sum_1d)\n",
    "print(\"standard deviation: \", std_1)\n",
    "print(\"=\"*15)\n",
    "std_2 = arr_sum_2d.std()\n",
    "print(\"Arrays:\\n\", arr_sum_2d)\n",
    "print(\"standard deviation: \", std_2)"
   ]
  },
  {
   "cell_type": "code",
   "execution_count": 49,
   "metadata": {},
   "outputs": [
    {
     "name": "stdout",
     "output_type": "stream",
     "text": [
      "Arrays:\n",
      " [ 1  2  5  7  9 10]\n",
      "the maximum value 10 and indexs 5\n",
      "===============\n",
      "Arrays:\n",
      " [[5 2 1]\n",
      " [6 3 5]\n",
      " [6 4 3]]\n",
      "the maximum value 6 and indexs 6\n"
     ]
    }
   ],
   "source": [
    "# 16. Find the index of the maximum value in an array.\n",
    "max_val_1 = arr_sum_1d.max()\n",
    "ind_max_val_1 = arr_sum_1d.argmax()\n",
    "print(\"Arrays:\\n\", arr_sum_1d)\n",
    "print(f\"the maximum value {std_1} and indexs {ind_max_val_1}\")\n",
    "print(\"=\"*15)\n",
    "max_val_2 = arr_sum_2d.max()\n",
    "ind_max_val_2 = arr_sum_2d.max()\n",
    "print(\"Arrays:\\n\", arr_sum_2d)\n",
    "print(f\"the maximum value {max_val_2} and indexs {ind_max_val_2}\")"
   ]
  },
  {
   "cell_type": "code",
   "execution_count": 62,
   "metadata": {},
   "outputs": [
    {
     "name": "stdout",
     "output_type": "stream",
     "text": [
      "Arrays:\n",
      " [ 1  2  5  7  9 10]\n",
      "Arrays after sorted:\n",
      " [ 1  2  5  7  9 10]\n",
      "========================================\n",
      "Arrays:\n",
      " [[2 7 7]\n",
      " [3 8 9]\n",
      " [1 6 7]]\n",
      "Arrays after sorted order by row:\n",
      " [[1 6 7]\n",
      " [2 7 7]\n",
      " [3 8 9]]\n",
      "Arrays after sorted order by column:\n",
      " [[2 7 7]\n",
      " [3 8 9]\n",
      " [1 6 7]]\n"
     ]
    }
   ],
   "source": [
    "# 17. Sort an array in ascending order.\n",
    "print(\"Arrays:\\n\", arr_sum_1d)\n",
    "print(\"Arrays after sorted:\\n\", np.sort(arr_sum_1d))\n",
    "print(\"=\"*40)\n",
    "print(\"Arrays:\\n\", arr_sum_2d)\n",
    "print(\"Arrays after sorted order by row:\\n\", np.sort(arr_sum_2d, axis=0)) # order by row\n",
    "print(\"Arrays after sorted order by column:\\n\", np.sort(arr_sum_2d, axis=1)) # order by column"
   ]
  },
  {
   "cell_type": "code",
   "execution_count": null,
   "metadata": {},
   "outputs": [],
   "source": [
    "# 18. Reverse an array.\n"
   ]
  },
  {
   "cell_type": "code",
   "execution_count": null,
   "metadata": {},
   "outputs": [],
   "source": [
    "# 19. Create a diagonal matrix from a given array.\n"
   ]
  },
  {
   "cell_type": "code",
   "execution_count": null,
   "metadata": {},
   "outputs": [],
   "source": [
    "# 20. Create a 4x4 matrix with random integers between 1 and 100."
   ]
  },
  {
   "cell_type": "markdown",
   "metadata": {},
   "source": [
    "# Pandas"
   ]
  },
  {
   "cell_type": "code",
   "execution_count": null,
   "metadata": {},
   "outputs": [],
   "source": [
    "\n",
    "# 1. Create a DataFrame with columns 'A', 'B', and 'C' and rows labeled 'Row1', 'Row2', and 'Row3'.\n",
    "# 2. Select only the 'A' column from the DataFrame.\n",
    "# 3. Select both the 'A' and 'C' columns from the DataFrame.\n",
    "# 4. Select the row labeled 'Row2' from the DataFrame.\n",
    "# 5. Select the second row of the DataFrame using its position.\n",
    "# 6. Filter the DataFrame to include only rows where the value in column 'A' is greater than 1.\n",
    "# 7. Filter the DataFrame to include rows where 'A' is greater than 1 and 'B' is less than 6.\n",
    "\n",
    "# 8. Add a new column 'D' to the DataFrame that is the sum of columns 'A' and 'B'.\n",
    "# 9. Remove the column 'D' from the DataFrame.\n",
    "# 10. Group the DataFrame by the values in column 'A' and calculate the mean for other columns.\n",
    "# 11. Sort the DataFrame by the values in column 'B' in ascending order.\n",
    "# 12. Sort the DataFrame by the values in column 'C' in descending order.\n",
    "# 13. Check which cells in the DataFrame have null values.\n",
    "# 14. Remove rows from the DataFrame that contain any null values.\n",
    "# 15. Fill null values in the DataFrame with the number 0.\n",
    "# 16. Merge the DataFrame with another DataFrame on the column 'A'.\n",
    "# 17. Concatenate the DataFrame with another DataFrame along the rows.\n",
    "# 18. Reset the index of the DataFrame to start from 0.\n",
    "# 19. Create a summary of the DataFrame showing the count, mean, and standard deviation for each\n",
    "column.\n",
    "# 20. Count the number of unique values in column 'A'."
   ]
  }
 ],
 "metadata": {
  "kernelspec": {
   "display_name": "dung",
   "language": "python",
   "name": "python3"
  },
  "language_info": {
   "codemirror_mode": {
    "name": "ipython",
    "version": 3
   },
   "file_extension": ".py",
   "mimetype": "text/x-python",
   "name": "python",
   "nbconvert_exporter": "python",
   "pygments_lexer": "ipython3",
   "version": "3.10.15"
  }
 },
 "nbformat": 4,
 "nbformat_minor": 2
}
