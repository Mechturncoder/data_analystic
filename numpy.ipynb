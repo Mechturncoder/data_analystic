{
 "cells": [
  {
   "cell_type": "code",
   "execution_count": 3,
   "metadata": {},
   "outputs": [],
   "source": [
    "import numpy as np"
   ]
  },
  {
   "cell_type": "markdown",
   "metadata": {},
   "source": [
    "# Basic arrays"
   ]
  },
  {
   "cell_type": "code",
   "execution_count": 4,
   "metadata": {},
   "outputs": [
    {
     "name": "stdout",
     "output_type": "stream",
     "text": [
      "[1 2 3 4] \n",
      "=========\n",
      " [[1 2 3]\n",
      " [4 5 6]] \n",
      "==========\n",
      " [7 8 9]\n"
     ]
    }
   ],
   "source": [
    "arr1 = np.array([1,2,3,4])\n",
    "arr2 = np.array([[1,2,3],[4,5,6]])\n",
    "arr3 = np.array((7,8,9))\n",
    "print(arr1, \"\\n=========\\n\", arr2, \"\\n==========\\n\", arr3)"
   ]
  },
  {
   "cell_type": "markdown",
   "metadata": {},
   "source": [
    "# Special arrays"
   ]
  },
  {
   "cell_type": "code",
   "execution_count": 7,
   "metadata": {},
   "outputs": [
    {
     "name": "stdout",
     "output_type": "stream",
     "text": [
      "\n",
      " Special Arrays: \n",
      " zeros:\n",
      " [[0. 0. 0.]\n",
      " [0. 0. 0.]]  \n",
      "\n",
      " ones:\n",
      " [[1. 1.]\n",
      " [1. 1.]\n",
      " [1. 1.]]  \n",
      "\n",
      " identity :\n",
      " [[1. 0. 0.]\n",
      " [0. 1. 0.]\n",
      " [0. 0. 1.]]\n"
     ]
    }
   ],
   "source": [
    "zeros = np.zeros((2,3))\n",
    "ones = np.ones((3,2))\n",
    "identity = np.eye(3)\n",
    "print(f\"\\n Special Arrays: \\n zeros:\\n {zeros}  \\n\\n ones:\\n {ones}  \\n\\n identity :\\n {identity}\")"
   ]
  },
  {
   "cell_type": "markdown",
   "metadata": {},
   "source": [
    "# Empty and filled arrays"
   ]
  },
  {
   "cell_type": "code",
   "execution_count": 8,
   "metadata": {},
   "outputs": [
    {
     "name": "stdout",
     "output_type": "stream",
     "text": [
      "\n",
      " empty Arrays: \n",
      " empty:\n",
      " [[2.12199579e-314 7.32088548e-312]\n",
      " [5.75092412e-321 8.28942550e-317]]  \n",
      "\n",
      " full:\n",
      " [[7 7]\n",
      " [7 7]]\n"
     ]
    }
   ],
   "source": [
    "empty = np.empty((2,2))\n",
    "full = np.full((2,2), 7)\n",
    "print(f\"\\n empty Arrays: \\n empty:\\n {empty}  \\n\\n full:\\n {full}\")"
   ]
  },
  {
   "cell_type": "markdown",
   "metadata": {},
   "source": [
    "# Arrays With Range\n",
    "\n",
    "- arange: Use when you know the step/gap between two consecutive number\n",
    "- linespace: Use when you know total the numbers"
   ]
  },
  {
   "cell_type": "code",
   "execution_count": null,
   "metadata": {},
   "outputs": [
    {
     "name": "stdout",
     "output_type": "stream",
     "text": [
      "\n",
      "  Arrays: \n",
      " empty:\n",
      " [0 2 4 6 8]  \n",
      "\n",
      " linspace:\n",
      " [0.   0.25 0.5  0.75 1.  ]\n"
     ]
    }
   ],
   "source": [
    "\n",
    "range_arr = np.arange(0,10,2)\n",
    "linespace_arr = np.linspace(0,1,5)\n",
    "print(f\"\\n  Arrays: \\n empty:\\n {range_arr}  \\n\\n linspace:\\n {linespace_arr}\")"
   ]
  },
  {
   "cell_type": "markdown",
   "metadata": {},
   "source": [
    "# Random Arrays"
   ]
  },
  {
   "cell_type": "code",
   "execution_count": null,
   "metadata": {},
   "outputs": [
    {
     "name": "stdout",
     "output_type": "stream",
     "text": [
      "\n",
      "  Arrays: \n",
      " rand:\n",
      " [[0.90847399 0.16564141 0.13956193]\n",
      " [0.74224255 0.38397897 0.12425444]]  \n",
      "\n",
      " rand_int:\n",
      " [[6 4]\n",
      " [3 2]]  \n",
      "\n",
      " rand_normal:\n",
      " [[ 0.08153445 -0.97223882  1.22858647]\n",
      " [ 1.15899466 -0.82276125  0.8930084 ]] \n",
      "\n",
      " rand_custom_normal:\n",
      " [[3.81748633 1.75513588 7.52007344]\n",
      " [6.07415713 6.40268215 5.89184   ]]\n"
     ]
    }
   ],
   "source": [
    "rand = np.random.rand(2,3)\n",
    "rand_int = np.random.randint(1,10,(2,2))\n",
    "rand_normal = np.random.randn(2,3)\n",
    "# distribution\n",
    "rand_custom_normal = np.random.normal(5,2,(2,3)) #mean=5, std=2\n",
    "print(f\"\\n  Arrays: \\n rand:\\n {rand}  \\n\\n rand_int:\\n {rand_int}  \\n\\n rand_normal:\\n {rand_normal} \\n\\n rand_custom_normal:\\n {rand_custom_normal}\")\n"
   ]
  },
  {
   "cell_type": "markdown",
   "metadata": {},
   "source": [
    "# Reshaping and initializing shapes"
   ]
  },
  {
   "cell_type": "code",
   "execution_count": null,
   "metadata": {},
   "outputs": [
    {
     "name": "stdout",
     "output_type": "stream",
     "text": [
      "\n",
      "  Arrays: \n",
      " reshaped:\n",
      " [[ 0  1  2  3]\n",
      " [ 4  5  6  7]\n",
      " [ 8  9 10 11]]  \n",
      "\n",
      " init_like:\n",
      " [[0 0 0 0]\n",
      " [0 0 0 0]\n",
      " [0 0 0 0]]\n"
     ]
    }
   ],
   "source": [
    "reshaped = np.arange(12).reshape(3,4)\n",
    "init_like = np.zeros_like(reshaped) # 3x4 zeros\n",
    "print(f\"\\n  Arrays: \\n reshaped:\\n {reshaped}  \\n\\n init_like:\\n {init_like}\")\n"
   ]
  },
  {
   "cell_type": "markdown",
   "metadata": {},
   "source": [
    "# Numpy Indexing and Selection"
   ]
  },
  {
   "cell_type": "code",
   "execution_count": null,
   "metadata": {},
   "outputs": [
    {
     "name": "stdout",
     "output_type": "stream",
     "text": [
      "Initial array :  [ 0  1  2  3  4  5  6  7  8  9 10]\n",
      "value at index 8 :  8\n",
      "values in range [1:5] [1 2 3 4]\n",
      "values in range [0:5] [0 1 2 3 4]\n"
     ]
    }
   ],
   "source": [
    "# Creating a sample array\n",
    "arr = np.arange(0,11)\n",
    "print(\"Initial array : \", arr)\n",
    "\n",
    "# Bracket indexing and selection\n",
    "# Get a value at index\n",
    "print(\"value at index 8 : \",arr[8])\n",
    "\n",
    "# Get values in range\n",
    "print(\"values in range [1:5]\", arr[1:5])\n",
    "print(\"values in range [0:5]\", arr[0:5])\n"
   ]
  },
  {
   "cell_type": "markdown",
   "metadata": {},
   "source": [
    "## Broadcasting\n"
   ]
  },
  {
   "cell_type": "code",
   "execution_count": 23,
   "metadata": {},
   "outputs": [
    {
     "name": "stdout",
     "output_type": "stream",
     "text": [
      "After broadcasting [0:5] with 100 [100 100 100 100 100  99   6   7   8   9  10]\n",
      "Reset array :  [ 0  1  2  3  4  5  6  7  8  9 10]\n",
      "Slice of array [0:6]:  [0 1 2 3 4 5]\n",
      "After modifying slice:  [99 99 99 99 99 99]\n",
      "Original array after modifying :  [99 99 99 99 99 99  6  7  8  9 10]\n",
      "Copy of array :  [99 99 99 99 99 99  6  7  8  9 10]\n",
      "After modifying slice:  [22 22 22 22 22 22 22 22 22 22 22]\n",
      "Original array after modifying :  [99 99 99 99 99 99  6  7  8  9 10]\n"
     ]
    }
   ],
   "source": [
    "# Setting values with index range\n",
    "arr[0:5] = 100\n",
    "print(\"After broadcasting [0:5] with 100\", arr)\n",
    "\n",
    "# reset array\n",
    "arr = np.arange(0,11)\n",
    "print(\"Reset array : \", arr)\n",
    "# Important notes on slices\n",
    "slice_of_arr = arr[0:6]\n",
    "print(\"Slice of array [0:6]: \",slice_of_arr)\n",
    "\n",
    "# Change slice\n",
    "slice_of_arr[:] = 99\n",
    "print(\"After modifying slice: \", slice_of_arr)\n",
    "print(\"Original array after modifying : \", arr)\n",
    "\n",
    "# to get a copy\n",
    "arr_copy = arr.copy()\n",
    "print(\"Copy of array : \" , arr_copy)\n",
    "arr_copy[:] = 22\n",
    "print(\"After modifying slice: \", arr_copy)\n",
    "print(\"Original array after modifying : \", arr)\n",
    "\n"
   ]
  },
  {
   "cell_type": "code",
   "execution_count": 28,
   "metadata": {},
   "outputs": [
    {
     "name": "stdout",
     "output_type": "stream",
     "text": [
      "2D array : \n",
      " [[ 5 10 15]\n",
      " [20 25 30]\n",
      " [35 45 78]]\n",
      "Second row of 2D array :  [20 25 30]\n",
      "Element at [1,0]:  20\n",
      "Element at [1,0](alternative syntax):  20\n",
      "Shape (2,2) from top right corner: \n",
      " [[10 15]\n",
      " [25 30]]\n",
      "Bootom row:  [35 45 78]\n",
      "Bottom Row (alternative syntax):  [35 45 78]\n"
     ]
    }
   ],
   "source": [
    "# 2D arrays\n",
    "arr_2d = np.array(([5,10,15],[20,25,30],[35,45,78]))\n",
    "print(\"2D array : \\n\", arr_2d)\n",
    "\n",
    "#Indexing Row\n",
    "print(\"Second row of 2D array : \",arr_2d[1])\n",
    "\n",
    "# Getting individual element value\n",
    "print(\"Element at [1,0]: \",arr_2d[1][0])\n",
    "print(\"Element at [1,0](alternative syntax): \" ,arr_2d[1,0])\n",
    "\n",
    "#2D array Slicing\n",
    "print(\"Shape (2,2) from top right corner: \\n\", arr_2d[:2,1:])\n",
    "print(\"Bootom row: \", arr_2d[2])\n",
    "print(\"Bottom Row (alternative syntax): \",arr_2d[2,:])\n"
   ]
  },
  {
   "cell_type": "code",
   "execution_count": null,
   "metadata": {},
   "outputs": [
    {
     "name": "stdout",
     "output_type": "stream",
     "text": [
      "Condition arr > 4:  [False False False False  True  True  True  True  True  True]\n",
      "Boolean array with condition arr > 4 :  [False False False False  True  True  True  True  True  True]\n",
      "Elements where condition is true [ 5  6  7  8  9 10]\n"
     ]
    }
   ],
   "source": [
    "# conditional selection\n",
    "\n",
    "arr = np.arange(1,11)\n",
    "\n",
    "# check condition\n",
    "print(\"Condition arr > 4: \", arr>4)\n",
    "\n",
    "# store Boolean result in another array\n",
    "bool_arr = arr>4\n",
    "print(\"Boolean array with condition arr > 4 : \", bool_arr)\n",
    "# Select element where condition is true\n",
    "print(\"Elements where condition is true\", arr[bool_arr])\n",
    "print(\"Element where condition is false : \", )\n"
   ]
  },
  {
   "cell_type": "markdown",
   "metadata": {},
   "source": [
    "\n",
    "# Statistical Properties of Numpy arrays"
   ]
  },
  {
   "cell_type": "code",
   "execution_count": 4,
   "metadata": {},
   "outputs": [
    {
     "name": "stdout",
     "output_type": "stream",
     "text": [
      "(10,)\n",
      "Sum of elements :  45\n",
      "Mean of elements :  4.5\n",
      "Max elements :  9\n",
      "Min elements :  0\n",
      "Variance :  8.25\n",
      "Standard Deviation :  2.8722813232690143\n"
     ]
    }
   ],
   "source": [
    "arr = np.arange(0,10)\n",
    "print(arr.shape)\n",
    "\n",
    "# Summary Stats\n",
    "print(\"Sum of elements : \", arr.sum())\n",
    "print(\"Mean of elements : \", arr.mean())\n",
    "print(\"Max elements : \", arr.max())\n",
    "print(\"Min elements : \", arr.min())\n",
    "print(\"Variance : \", arr.var())\n",
    "print(\"Standard Deviation : \", arr.std())\n"
   ]
  }
 ],
 "metadata": {
  "kernelspec": {
   "display_name": "dung",
   "language": "python",
   "name": "python3"
  },
  "language_info": {
   "codemirror_mode": {
    "name": "ipython",
    "version": 3
   },
   "file_extension": ".py",
   "mimetype": "text/x-python",
   "name": "python",
   "nbconvert_exporter": "python",
   "pygments_lexer": "ipython3",
   "version": "3.10.15"
  }
 },
 "nbformat": 4,
 "nbformat_minor": 2
}
