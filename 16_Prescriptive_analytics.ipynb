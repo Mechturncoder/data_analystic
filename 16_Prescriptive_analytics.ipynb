{
 "cells": [
  {
   "cell_type": "markdown",
   "metadata": {},
   "source": [
    "# Linear Programming Problen"
   ]
  },
  {
   "cell_type": "markdown",
   "metadata": {},
   "source": [
    "## Exercise 1"
   ]
  },
  {
   "cell_type": "markdown",
   "metadata": {},
   "source": [
    "- We run a factory making chairs (Rs 300 profit per chair sold) and tables (Rs 1000 profit per table sold)\n",
    "- We have 400 units of wood: One chair needs 5 units, one table needs 10 units\n",
    "- We have 300 hours of worker time: One chair takes 2 hour, one table needs 6 hours\n",
    "- => How many tables and chairs should we make to maximize profit?\n",
    "- Objective function: Maximize 300x + 1000y (profit)\n",
    "- Constrains:\n",
    "- - 5x + 10y <= 400\n",
    "- - 2x + 6y <= 300\n",
    "- - x, y >=0 300 (None-negative quantities)"
   ]
  },
  {
   "cell_type": "code",
   "execution_count": 2,
   "metadata": {},
   "outputs": [],
   "source": [
    "from pulp import *\n",
    "# Create the problem variable to contain the problem data\n",
    "model = LpProblem(\"FactoryProductionProblem\", LpMaximize)"
   ]
  },
  {
   "cell_type": "code",
   "execution_count": null,
   "metadata": {},
   "outputs": [],
   "source": [
    "# Create variables for chairs and tables\n",
    "# Parameters: Name, Lower limit, Upper limit, Data type\n",
    "chairs = LpVariable(\"Chair\", 0, None, LpInteger) # Number of chairs to produce\n",
    "tables = LpVariable(\"Table\", 0, None, LpInteger) # Number of tables to produce"
   ]
  },
  {
   "cell_type": "code",
   "execution_count": null,
   "metadata": {},
   "outputs": [],
   "source": [
    "# Create maximize objective function (profit)\n",
    "model += 300 * chairs + 1000 * tables, \"Profit\""
   ]
  },
  {
   "cell_type": "code",
   "execution_count": null,
   "metadata": {},
   "outputs": [],
   "source": [
    "# Create constrains\n",
    "model += 5 * chairs + 10 * tables <= 400, \"Wood constrains\" # Wood availability\n",
    "model += 2 * chairs + 6 * tables <= 300, \"Time constrains\" # Wood availability"
   ]
  },
  {
   "cell_type": "code",
   "execution_count": null,
   "metadata": {},
   "outputs": [
    {
     "data": {
      "text/plain": [
       "1"
      ]
     },
     "execution_count": 9,
     "metadata": {},
     "output_type": "execute_result"
    }
   ],
   "source": [
    "# The problem is solved using PuLP's choice of Solver\n",
    "model.solve()"
   ]
  },
  {
   "cell_type": "code",
   "execution_count": null,
   "metadata": {},
   "outputs": [
    {
     "name": "stdout",
     "output_type": "stream",
     "text": [
      "Chair = 0.0\n",
      "Table = 40.0\n"
     ]
    }
   ],
   "source": [
    "# Each of the variables is printed with its resolved optium value\n",
    "for v in model.variables():\n",
    "    print(v.name, \"=\", v.varValue)"
   ]
  },
  {
   "cell_type": "code",
   "execution_count": null,
   "metadata": {},
   "outputs": [
    {
     "data": {
      "text/plain": [
       "300*Chair + 1000*Table + 0"
      ]
     },
     "execution_count": 12,
     "metadata": {},
     "output_type": "execute_result"
    }
   ],
   "source": [
    "model.objective"
   ]
  },
  {
   "cell_type": "code",
   "execution_count": null,
   "metadata": {},
   "outputs": [
    {
     "name": "stdout",
     "output_type": "stream",
     "text": [
      "Total Profit: 40000.0\n"
     ]
    }
   ],
   "source": [
    "# Additional Information\n",
    "print(\"Total Profit:\", value(model.objective)) # Print objective function vale Total Profit "
   ]
  },
  {
   "cell_type": "markdown",
   "metadata": {},
   "source": [
    "## Exercise 2"
   ]
  },
  {
   "cell_type": "markdown",
   "metadata": {},
   "source": [
    "- A cars manufacturer manufacttures two cars A and B\n",
    "- There are one robot, two engineers, and one detailer at work\n",
    "- The detailer is going on a short holiday, so he only has 21 days working time\n",
    "- Robot time: Car A - 5 days, Car B - 4 days\n",
    "- detailer time: Car A - 5 days, Car B - 4 days\n",
    "- => How many tables and chairs should we make to maximize profit?\n",
    "- Objective function: Maximize 300x + 1000y (profit)\n",
    "- Constrains:\n",
    "- - 3x + 4y <= 30\n",
    "- - 5x + 6y <= 60\n",
    "- - 1,5x + 3y <= 21 (None-negative quantities)"
   ]
  },
  {
   "cell_type": "code",
   "execution_count": 14,
   "metadata": {},
   "outputs": [
    {
     "name": "stdout",
     "output_type": "stream",
     "text": [
      "A = 2.0\n",
      "B = 6.0\n",
      "model.objective 30000*A + 45000*B\n",
      "Total Profit: 330000.0\n"
     ]
    }
   ],
   "source": [
    "from pulp import *\n",
    "# Create the problem variable to contain the problem data\n",
    "model = LpProblem(\"CarProductionProblem\", LpMaximize)\n",
    "# Create variables for car_A and car_B\n",
    "# Parameters: Name, Lower limit, Upper limit, Data type\n",
    "car_A = LpVariable(\"A\", 0, None, LpInteger) # Number of car_A to produce\n",
    "car_B = LpVariable(\"B\", 0, None, LpInteger) # Number of car_B to produce\n",
    "# Create maximize objective function (profit)\n",
    "model += 30000 * car_A + 45000 * car_B, \"Profit\"\n",
    "# Create constrains\n",
    "model += 3 * car_A + 4 * car_B <= 30, \"Material constrain 1\" # Material constrain 1\n",
    "model += 5 * car_A + 6 * car_B <= 60, \"Material constrain 2\" # Material constrain 2\n",
    "model += 1.5 * car_A + 3 * car_B <= 21, \"Labor constrains\" # Material constrain 3\n",
    "# The problem is solved using PuLP's choice of Solver\n",
    "model.solve()\n",
    "# Each of the variables is printed with its resolved optium value\n",
    "for v in model.variables():\n",
    "    print(v.name, \"=\", v.varValue)\n",
    "print(\"model.objective\", model.objective)\n",
    "# Additional Information\n",
    "print(\"Total Profit:\", value(model.objective)) # Print objective function vale Total Profit "
   ]
  },
  {
   "cell_type": "markdown",
   "metadata": {},
   "source": [
    "## Exercise 3\n"
   ]
  },
  {
   "cell_type": "markdown",
   "metadata": {},
   "source": [
    "    - You are the captain of the Cricket team and need to allocated overs to two bowlers.\n",
    "    - Bowler A and B, to maximize the number of wickets they can take.\n",
    "    - Constraints:\n",
    "    - Bolwer A can bowl maximum of 6 overs.\n",
    "    - Bowler B can bowl a maximum of 8 Overs.\n",
    "    - Together, they can bowl a total of 10 overs.\n",
    "    - Bowlers A takes an average of 0.5 wickets per over.\n",
    "    - Bowler B takes an average of 0.3 wickets per over."
   ]
  },
  {
   "cell_type": "code",
   "execution_count": 19,
   "metadata": {},
   "outputs": [
    {
     "name": "stdout",
     "output_type": "stream",
     "text": [
      "A = 6.0\n",
      "B = 4.0\n",
      "model.objective 0.5*A + 0.3*B\n",
      "Total Wickets: 4.2\n"
     ]
    }
   ],
   "source": [
    "from pulp import *\n",
    "# Create the problem variable to contain the problem data\n",
    "model = LpProblem(\"CricketProblem\", LpMaximize)\n",
    "# Create variables for bowler_A and bowler_B\n",
    "# Parameters: Name, Lower limit, Upper limit, Data type\n",
    "bowler_A = LpVariable(\"A\", 0, None, LpInteger) # Number of bowler_A to produce\n",
    "bowler_B = LpVariable(\"B\", 0, None, LpInteger) # Number of bowler_B to produce\n",
    "# Create maximize objective function (profit)\n",
    "model += 0.5 * bowler_A + 0.3 * bowler_B, \"Profit\"\n",
    "# Create constrains\n",
    "model += bowler_A <= 6, \"Bowler constrain 1\" # Bowler constrain 1\n",
    "model += bowler_B <= 8, \"Bowler constrain 2\" # Bowler constrain 2\n",
    "model += bowler_A + bowler_B <= 10, \"Wicket constrains\" # Material constrain 3\n",
    "# The problem is solved using PuLP's choice of Solver\n",
    "model.solve()\n",
    "# Each of the variables is printed with its resolved optium value\n",
    "for v in model.variables():\n",
    "    print(v.name, \"=\", v.varValue)\n",
    "print(\"model.objective\", model.objective)\n",
    "# Additional Information\n",
    "print(\"Total Wickets:\", value(model.objective)) # Print objective function vale Total Profit "
   ]
  },
  {
   "cell_type": "markdown",
   "metadata": {},
   "source": [
    "## Exercise 4"
   ]
  },
  {
   "cell_type": "markdown",
   "metadata": {},
   "source": [
    "    - A student needs to prepare for 3 modules: python programming (3 credits), SQL (2 credits), and advance analytics(5 credits)\n",
    "    - The student must get at least one credit in every subject\n",
    "    - 100 hours of study available\n",
    "    - Number of hours study needed for Python : 15, SQL : 30, Analytics : 25\n",
    "    - One Analytics credit has of 1.5 weightage\n",
    "    - How can the student study to get maximum credits?"
   ]
  },
  {
   "cell_type": "code",
   "execution_count": 38,
   "metadata": {},
   "outputs": [
    {
     "name": "stdout",
     "output_type": "stream",
     "text": [
      "Analytics = 35.0\n",
      "Python = 45.0\n",
      "SQL = 20.0\n",
      "model.objective 0.06*Analytics + 0.06666666666666667*Python + 0.05*SQL\n",
      "Total Credits: 6.1\n"
     ]
    }
   ],
   "source": [
    "from pulp import *\n",
    "\n",
    "model = LpProblem(\"ExamCredits\", LpMaximize)\n",
    "python = LpVariable(\"Python\", 0, None, LpInteger) \n",
    "sql = LpVariable(\"SQL\", 0, None, LpInteger) \n",
    "analytics = LpVariable(\"Analytics\", 0, None, LpInteger)\n",
    "model += python * (1/15) + sql * (1/20) + analytics * (1.5/25), \"Total Credits\"\n",
    "\n",
    "model += python + sql +  analytics <= 100, \"Total Study Hours\"\n",
    "model += python <= 3*15, \"Python Max Hours\"\n",
    "model += sql <= 2*20, \"SQL Max Hours\"\n",
    "model += analytics <= 5*25, \"Analytics Max Hours\"\n",
    "model += python >= 15, \"Python Min Hours\"\n",
    "model += sql >= 20, \"SQL Min Hours\"\n",
    "model += analytics >= 25, \"Analytics Min Hours\" \n",
    "\n",
    "model.solve()\n",
    "\n",
    "for v in model.variables():\n",
    "    print(v.name, \"=\", v.varValue)\n",
    "print(\"model.objective\", model.objective)\n",
    "\n",
    "print(\"Total Credits:\", value(model.objective)) "
   ]
  },
  {
   "cell_type": "code",
   "execution_count": null,
   "metadata": {},
   "outputs": [],
   "source": []
  }
 ],
 "metadata": {
  "kernelspec": {
   "display_name": "dung",
   "language": "python",
   "name": "python3"
  },
  "language_info": {
   "codemirror_mode": {
    "name": "ipython",
    "version": 3
   },
   "file_extension": ".py",
   "mimetype": "text/x-python",
   "name": "python",
   "nbconvert_exporter": "python",
   "pygments_lexer": "ipython3",
   "version": "3.10.15"
  }
 },
 "nbformat": 4,
 "nbformat_minor": 2
}
